{
  "nbformat": 4,
  "nbformat_minor": 0,
  "metadata": {
    "colab": {
      "provenance": [],
      "authorship_tag": "ABX9TyO/OSbo1JlwQTNSNZHBsV7a",
      "include_colab_link": true
    },
    "kernelspec": {
      "name": "python3",
      "display_name": "Python 3"
    },
    "language_info": {
      "name": "python"
    }
  },
  "cells": [
    {
      "cell_type": "markdown",
      "metadata": {
        "id": "view-in-github",
        "colab_type": "text"
      },
      "source": [
        "<a href=\"https://colab.research.google.com/github/RamshaArshad1/Python/blob/main/Python_1.ipynb\" target=\"_parent\"><img src=\"https://colab.research.google.com/assets/colab-badge.svg\" alt=\"Open In Colab\"/></a>"
      ]
    },
    {
      "cell_type": "code",
      "execution_count": null,
      "metadata": {
        "colab": {
          "base_uri": "https://localhost:8080/"
        },
        "id": "IGVsOWjCOI4R",
        "outputId": "ac8eaf11-57a1-474b-8f43-992e83a90264"
      },
      "outputs": [
        {
          "output_type": "stream",
          "name": "stdout",
          "text": [
            "Hello, world!\n"
          ]
        }
      ],
      "source": [
        "# prompt: print hello world\n",
        "\n",
        "print(\"Hello, world!\")\n"
      ]
    },
    {
      "cell_type": "markdown",
      "source": [
        "Python Operators"
      ],
      "metadata": {
        "id": "UTuixGmpTI0U"
      }
    },
    {
      "cell_type": "code",
      "source": [
        "#python operators\n",
        "# + - / *\n",
        "2+2"
      ],
      "metadata": {
        "colab": {
          "base_uri": "https://localhost:8080/"
        },
        "id": "EOkovntmTG1s",
        "outputId": "f45de8f1-4897-4efc-b03a-9825de858d4e"
      },
      "execution_count": null,
      "outputs": [
        {
          "output_type": "execute_result",
          "data": {
            "text/plain": [
              "4"
            ]
          },
          "metadata": {},
          "execution_count": 3
        }
      ]
    },
    {
      "cell_type": "code",
      "source": [
        "#subtraction\n",
        "3-2"
      ],
      "metadata": {
        "colab": {
          "base_uri": "https://localhost:8080/"
        },
        "id": "cezv4CM-Tx2A",
        "outputId": "9e95b8e6-a6b6-441a-aa56-a73318508f36"
      },
      "execution_count": null,
      "outputs": [
        {
          "output_type": "execute_result",
          "data": {
            "text/plain": [
              "1"
            ]
          },
          "metadata": {},
          "execution_count": 6
        }
      ]
    },
    {
      "cell_type": "code",
      "source": [
        "#multiply\n",
        "2*3"
      ],
      "metadata": {
        "colab": {
          "base_uri": "https://localhost:8080/"
        },
        "id": "qYDhIBvjT_6J",
        "outputId": "155cc85f-e619-4a74-8f58-438a8102eaee"
      },
      "execution_count": null,
      "outputs": [
        {
          "output_type": "execute_result",
          "data": {
            "text/plain": [
              "6"
            ]
          },
          "metadata": {},
          "execution_count": 7
        }
      ]
    },
    {
      "cell_type": "code",
      "source": [
        "#divide\n",
        "8/4"
      ],
      "metadata": {
        "colab": {
          "base_uri": "https://localhost:8080/"
        },
        "id": "k5xrk_4RUFCC",
        "outputId": "96c9db78-b036-41ce-c916-319e771a05d9"
      },
      "execution_count": null,
      "outputs": [
        {
          "output_type": "execute_result",
          "data": {
            "text/plain": [
              "2.0"
            ]
          },
          "metadata": {},
          "execution_count": 8
        }
      ]
    },
    {
      "cell_type": "code",
      "source": [
        "#modulo\n",
        "4%16"
      ],
      "metadata": {
        "colab": {
          "base_uri": "https://localhost:8080/"
        },
        "id": "xJq8CMKDUiwD",
        "outputId": "9388c1ff-eb08-441c-a8f3-b676fdd310b0"
      },
      "execution_count": null,
      "outputs": [
        {
          "output_type": "execute_result",
          "data": {
            "text/plain": [
              "4"
            ]
          },
          "metadata": {},
          "execution_count": 10
        }
      ]
    },
    {
      "cell_type": "code",
      "source": [
        "# 2% increase in a 100$ on a monthely basis for 2 years\n",
        "100*(1.02**2)"
      ],
      "metadata": {
        "colab": {
          "base_uri": "https://localhost:8080/"
        },
        "id": "0I3WBBpfVLoF",
        "outputId": "4a08ccf1-49de-4b4d-8d10-bdc384d54139"
      },
      "execution_count": null,
      "outputs": [
        {
          "output_type": "execute_result",
          "data": {
            "text/plain": [
              "104.03999999999999"
            ]
          },
          "metadata": {},
          "execution_count": 22
        }
      ]
    },
    {
      "cell_type": "code",
      "source": [
        "# you have 100$ which you can invest with a 10% return each year. after one year it's 110$ ans after 2 its 121$. how much will bw after 7 years\n",
        "out = 100*(1+0.10)**7\n",
        "print(out)"
      ],
      "metadata": {
        "colab": {
          "base_uri": "https://localhost:8080/"
        },
        "id": "Y7WTBRe4WEZK",
        "outputId": "d7e738b9-23be-48e6-f7a1-07f35acc408d"
      },
      "execution_count": null,
      "outputs": [
        {
          "output_type": "stream",
          "name": "stdout",
          "text": [
            "194.87171000000012\n"
          ]
        }
      ]
    },
    {
      "cell_type": "code",
      "source": [
        "age = 20\n",
        "print(age)"
      ],
      "metadata": {
        "colab": {
          "base_uri": "https://localhost:8080/"
        },
        "id": "tFgYHPIRX4xE",
        "outputId": "39ac1015-f1b4-4763-c74e-96736249363e"
      },
      "execution_count": null,
      "outputs": [
        {
          "output_type": "stream",
          "name": "stdout",
          "text": [
            "20\n"
          ]
        }
      ]
    },
    {
      "cell_type": "code",
      "source": [
        "# Write age, height, name of a person and calculate his age in 10 years and show all variables via print\n",
        "Name = (\"Ali\")\n",
        "Hight =  (\"5.10\")\n",
        "Age = (20)\n",
        "age2 = Age + 10\n",
        "print(Name)\n",
        "print(Hight)\n",
        "print(Age)\n",
        "print(age2)\n"
      ],
      "metadata": {
        "colab": {
          "base_uri": "https://localhost:8080/"
        },
        "id": "gLiPv4KgYkcX",
        "outputId": "43136b8f-1de3-4f4a-8634-5d4ad43fb5a1"
      },
      "execution_count": null,
      "outputs": [
        {
          "output_type": "stream",
          "name": "stdout",
          "text": [
            "Ali\n",
            "5.10\n",
            "20\n",
            "30\n"
          ]
        }
      ]
    },
    {
      "cell_type": "code",
      "source": [
        "#types of var\n",
        "string = \"name\"\n",
        "Integer = 10\n",
        "Float = 10.5\n",
        "Boolean = True or False or None"
      ],
      "metadata": {
        "id": "dc5RFSwebrPd"
      },
      "execution_count": null,
      "outputs": []
    },
    {
      "cell_type": "code",
      "source": [
        "#create two variables and print them in the given sentence\n",
        "#create two variables and print them in the given sentence\n",
        "name = \"ramsha\"\n",
        "age  = 20\n",
        "print(f\"my name is {name} and my age is {age}\")\n"
      ],
      "metadata": {
        "colab": {
          "base_uri": "https://localhost:8080/"
        },
        "id": "fbRbL3zzab9g",
        "outputId": "4d18469d-cef6-4bcd-acbc-ba48c6fec49e"
      },
      "execution_count": null,
      "outputs": [
        {
          "output_type": "stream",
          "name": "stdout",
          "text": [
            "my name is ramsha and my age is 20\n"
          ]
        }
      ]
    },
    {
      "cell_type": "code",
      "source": [
        "#Task\n",
        "growth = 1.1\n",
        "money = 100\n",
        "result = money*growth**7\n",
        "print(result)\n"
      ],
      "metadata": {
        "colab": {
          "base_uri": "https://localhost:8080/"
        },
        "id": "JaNBwypmHyIu",
        "outputId": "1dee8b02-61c9-49be-fb7c-d718b0cde187"
      },
      "execution_count": null,
      "outputs": [
        {
          "output_type": "stream",
          "name": "stdout",
          "text": [
            "194.87171000000012\n"
          ]
        }
      ]
    },
    {
      "cell_type": "code",
      "source": [
        "# name, age, hight\n",
        "Name = \"Ramsha\"\n",
        "Age = \"20\"\n",
        "Hight = \"5.4\"\n",
        "print(\"my name is \" + Name + \" and my age is \" + Age + \" and my hight is \" + Hight)\n",
        "print(Name)\n",
        "print(Age)\n",
        "print(Hight)\n",
        "\n"
      ],
      "metadata": {
        "colab": {
          "base_uri": "https://localhost:8080/"
        },
        "id": "zppRmCqoIbV2",
        "outputId": "a515f4c7-3390-4d38-bf06-5ae30ad32d10"
      },
      "execution_count": null,
      "outputs": [
        {
          "output_type": "stream",
          "name": "stdout",
          "text": [
            "my name is Ramsha and my age is 20 and my hight is 5.4\n",
            "Ramsha\n",
            "20\n",
            "5.4\n"
          ]
        }
      ]
    },
    {
      "cell_type": "markdown",
      "source": [
        "**LIST**"
      ],
      "metadata": {
        "id": "wTwPi7E8JhC3"
      }
    },
    {
      "cell_type": "code",
      "source": [
        "a = \"Ramsha\"\n",
        "b = \"female\"\n",
        "c = \"5.3\"\n",
        "d = \"20\"\n",
        "e = [a,b,c,d]\n",
        "print(e)"
      ],
      "metadata": {
        "colab": {
          "base_uri": "https://localhost:8080/"
        },
        "id": "yTEhkluiJi3p",
        "outputId": "795de8a5-97ae-4ce5-b337-7d434e858d1e"
      },
      "execution_count": null,
      "outputs": [
        {
          "output_type": "stream",
          "name": "stdout",
          "text": [
            "['Ramsha', 'female', '5.3', '20']\n"
          ]
        }
      ]
    },
    {
      "cell_type": "code",
      "source": [
        "#make a list for seven cities\n",
        "a = \"lahore\"\n",
        "b = \"karachi\"\n",
        "c = \"islamabad\"\n",
        "d = \"peshawar\"\n",
        "e = \"quetta\"\n",
        "f = \"multan\"\n",
        "g = \"rawalpindi\"\n",
        "cities = [a,b,c,d,e,f,g]\n",
        "print(cities)"
      ],
      "metadata": {
        "colab": {
          "base_uri": "https://localhost:8080/"
        },
        "id": "wodvCU9LKGKg",
        "outputId": "dc9007bf-1b79-49bd-83c2-2da53efea59f"
      },
      "execution_count": null,
      "outputs": [
        {
          "output_type": "stream",
          "name": "stdout",
          "text": [
            "['lahore', 'karachi', 'islamabad', 'peshawar', 'quetta', 'multan', 'rawalpindi']\n"
          ]
        }
      ]
    },
    {
      "cell_type": "code",
      "source": [
        "# 7 different ages of people\n",
        "age = [10,20,30,40,50,60,70]\n",
        "print(age)"
      ],
      "metadata": {
        "colab": {
          "base_uri": "https://localhost:8080/"
        },
        "id": "hK_ylYAAKke8",
        "outputId": "8dd95278-4f68-483f-b406-fc75e7cdc50a"
      },
      "execution_count": null,
      "outputs": [
        {
          "output_type": "stream",
          "name": "stdout",
          "text": [
            "[10, 20, 30, 40, 50, 60, 70]\n"
          ]
        }
      ]
    },
    {
      "cell_type": "code",
      "source": [
        "# create a list with a city name, temp, size and wheter its a city or not\n",
        "a = [\"lahore\", \"24 celcius\", \"1772 sq km\", \"true\"]\n",
        "print (a)"
      ],
      "metadata": {
        "colab": {
          "base_uri": "https://localhost:8080/"
        },
        "id": "FHsQ3KhmLFVt",
        "outputId": "c44f7f58-c74e-41a2-f618-487d309ad806"
      },
      "execution_count": null,
      "outputs": [
        {
          "output_type": "stream",
          "name": "stdout",
          "text": [
            "['lahore', '24 celcius', '1772 sq km', 'true']\n"
          ]
        }
      ]
    },
    {
      "cell_type": "code",
      "source": [
        "f = \"I am lord voldemort\"\n",
        "print(f[10:])"
      ],
      "metadata": {
        "colab": {
          "base_uri": "https://localhost:8080/"
        },
        "id": "CPlXM6mlO5lW",
        "outputId": "0d26c345-6563-4953-b838-c32150a2585d"
      },
      "execution_count": 3,
      "outputs": [
        {
          "output_type": "stream",
          "name": "stdout",
          "text": [
            "voldemort\n"
          ]
        }
      ]
    },
    {
      "cell_type": "code",
      "source": [
        "var1 = (f[10:])\n",
        "var2 = (f[:10])\n",
        "print (var1)\n",
        "print (var2)\n",
        "\n"
      ],
      "metadata": {
        "colab": {
          "base_uri": "https://localhost:8080/"
        },
        "id": "hLGM0N--UBTj",
        "outputId": "91625de2-9c5f-4346-f8d0-23ca2dbeab9e"
      },
      "execution_count": 6,
      "outputs": [
        {
          "output_type": "stream",
          "name": "stdout",
          "text": [
            "voldemort\n",
            "I am lord \n"
          ]
        }
      ]
    },
    {
      "cell_type": "code",
      "source": [
        "#create 3 cities in each pak, ind, bangladesh\n",
        "Q  = [['lahore', 'karachi', 'islamabad'], ['mumbai', 'dehli', 'agra'], ['dhaka', 'chittagong', 'rajshahi']]\n",
        "print(Q)"
      ],
      "metadata": {
        "colab": {
          "base_uri": "https://localhost:8080/"
        },
        "id": "HrRgtcJTVUHe",
        "outputId": "323681ee-406e-42b5-fefe-061cabe6a97e"
      },
      "execution_count": 7,
      "outputs": [
        {
          "output_type": "stream",
          "name": "stdout",
          "text": [
            "[['lahore', 'karachi', 'islamabad'], ['mumbai', 'dehli', 'agra'], ['dhaka', 'chittagong', 'rajshahi']]\n"
          ]
        }
      ]
    },
    {
      "cell_type": "code",
      "source": [
        "#type\n",
        "type(10)\n",
        "type(1.1)"
      ],
      "metadata": {
        "colab": {
          "base_uri": "https://localhost:8080/"
        },
        "id": "ps-A1PnnZTqW",
        "outputId": "564cde86-f46a-4bed-cfb5-5f2d37a3d8eb"
      },
      "execution_count": 10,
      "outputs": [
        {
          "output_type": "execute_result",
          "data": {
            "text/plain": [
              "float"
            ]
          },
          "metadata": {},
          "execution_count": 10
        }
      ]
    },
    {
      "cell_type": "code",
      "source": [
        "#Length\n",
        "My_Profession = \"I love my profession\"\n",
        "len(My_Profession)\n",
        "My_Profession.upper()\n",
        "My_Profession.lower()"
      ],
      "metadata": {
        "colab": {
          "base_uri": "https://localhost:8080/",
          "height": 36
        },
        "id": "clPnWRmNZgiv",
        "outputId": "0fccd9d3-532c-4f20-cc1b-17030ada734f"
      },
      "execution_count": 12,
      "outputs": [
        {
          "output_type": "execute_result",
          "data": {
            "text/plain": [
              "'i love my profession'"
            ],
            "application/vnd.google.colaboratory.intrinsic+json": {
              "type": "string"
            }
          },
          "metadata": {},
          "execution_count": 12
        }
      ]
    }
  ]
}