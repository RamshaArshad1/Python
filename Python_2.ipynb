{
  "nbformat": 4,
  "nbformat_minor": 0,
  "metadata": {
    "colab": {
      "provenance": [],
      "authorship_tag": "ABX9TyNixqdF55BnODbnZ66OWvq1",
      "include_colab_link": true
    },
    "kernelspec": {
      "name": "python3",
      "display_name": "Python 3"
    },
    "language_info": {
      "name": "python"
    }
  },
  "cells": [
    {
      "cell_type": "markdown",
      "metadata": {
        "id": "view-in-github",
        "colab_type": "text"
      },
      "source": [
        "<a href=\"https://colab.research.google.com/github/RamshaArshad1/Python/blob/main/Python_2.ipynb\" target=\"_parent\"><img src=\"https://colab.research.google.com/assets/colab-badge.svg\" alt=\"Open In Colab\"/></a>"
      ]
    },
    {
      "cell_type": "code",
      "execution_count": 3,
      "metadata": {
        "colab": {
          "base_uri": "https://localhost:8080/"
        },
        "id": "534vhvKwQfTA",
        "outputId": "33d10a28-f1f9-47c7-97ec-b004fc971297"
      },
      "outputs": [
        {
          "output_type": "execute_result",
          "data": {
            "text/plain": [
              "int"
            ]
          },
          "metadata": {},
          "execution_count": 3
        }
      ],
      "source": [
        "#type\n",
        "type(10)"
      ]
    },
    {
      "cell_type": "code",
      "source": [
        "My_Profession = \"I love my profession\"\n",
        "len(My_Profession)\n",
        "My_Profession.upper()\n",
        "My_Profession.lower()"
      ],
      "metadata": {
        "colab": {
          "base_uri": "https://localhost:8080/",
          "height": 36
        },
        "id": "KmHPyWzqQ-sV",
        "outputId": "a585cbe3-c15d-435e-ff0f-8d4bc2493fca"
      },
      "execution_count": 9,
      "outputs": [
        {
          "output_type": "execute_result",
          "data": {
            "text/plain": [
              "'i love my profession'"
            ],
            "application/vnd.google.colaboratory.intrinsic+json": {
              "type": "string"
            }
          },
          "metadata": {},
          "execution_count": 9
        }
      ]
    },
    {
      "cell_type": "code",
      "source": [
        "Ramsha_age = 22\n",
        "Ramsha_age"
      ],
      "metadata": {
        "colab": {
          "base_uri": "https://localhost:8080/"
        },
        "id": "afSzFHVmSJ5B",
        "outputId": "ee8ebf91-7e11-44a1-9c8a-d4ea34aeb933"
      },
      "execution_count": 6,
      "outputs": [
        {
          "output_type": "execute_result",
          "data": {
            "text/plain": [
              "22"
            ]
          },
          "metadata": {},
          "execution_count": 6
        }
      ]
    },
    {
      "cell_type": "code",
      "source": [
        "float(Ramsha_age)"
      ],
      "metadata": {
        "colab": {
          "base_uri": "https://localhost:8080/"
        },
        "id": "hLb-t31kSUyP",
        "outputId": "e34dc9a3-4755-4134-b83e-33d04040e5a6"
      },
      "execution_count": 7,
      "outputs": [
        {
          "output_type": "execute_result",
          "data": {
            "text/plain": [
              "22.0"
            ]
          },
          "metadata": {},
          "execution_count": 7
        }
      ]
    },
    {
      "cell_type": "code",
      "source": [
        "ages = [12,13,14,15]\n"
      ],
      "metadata": {
        "id": "XCMhtaa6TG5S"
      },
      "execution_count": null,
      "outputs": []
    },
    {
      "cell_type": "code",
      "source": [
        "# Create a 10 word sentence and replace it with its capital form using Upper function\n",
        "sentence = \"I want to upgrade my skills with the passage of time\"\n",
        "sentence\n",
        "sentence.upper()"
      ],
      "metadata": {
        "colab": {
          "base_uri": "https://localhost:8080/",
          "height": 36
        },
        "id": "r7eRVo55Tvqx",
        "outputId": "dc3de3be-ea9d-4f83-c056-68898cfd6a07"
      },
      "execution_count": 15,
      "outputs": [
        {
          "output_type": "execute_result",
          "data": {
            "text/plain": [
              "'I WANT TO UPGRADE MY SKILLS WITH THE PASSAGE OF TIME'"
            ],
            "application/vnd.google.colaboratory.intrinsic+json": {
              "type": "string"
            }
          },
          "metadata": {},
          "execution_count": 15
        }
      ]
    },
    {
      "cell_type": "code",
      "source": [
        "fruits = ['banana', 'orange', 'mango', 'lemon']\n",
        "fruits = fruits.index('orange')\n",
        "fruits"
      ],
      "metadata": {
        "colab": {
          "base_uri": "https://localhost:8080/"
        },
        "id": "3_5bkXLqVJIL",
        "outputId": "9a0c38db-0d80-4c3b-bf56-a4a0a29204a5"
      },
      "execution_count": 16,
      "outputs": [
        {
          "output_type": "execute_result",
          "data": {
            "text/plain": [
              "1"
            ]
          },
          "metadata": {},
          "execution_count": 16
        }
      ]
    },
    {
      "cell_type": "code",
      "source": [
        "# list of 6 country\n",
        "R = ['france', 'pakistan', 'india', 'russia', 'china', 'japan']\n",
        "R = R.index('india')\n",
        "R"
      ],
      "metadata": {
        "colab": {
          "base_uri": "https://localhost:8080/"
        },
        "id": "jE8gBPf8Vg63",
        "outputId": "a5af5756-76ae-4fb7-c808-24cdaaf871a8"
      },
      "execution_count": 6,
      "outputs": [
        {
          "output_type": "execute_result",
          "data": {
            "text/plain": [
              "2"
            ]
          },
          "metadata": {},
          "execution_count": 6
        }
      ]
    },
    {
      "cell_type": "code",
      "source": [
        "R = ['france', 'pakistan', 'india', 'russia', 'china', 'japan']\n",
        "R.append('germany')\n",
        "R"
      ],
      "metadata": {
        "colab": {
          "base_uri": "https://localhost:8080/"
        },
        "id": "BOBxZNY9Za12",
        "outputId": "27325d9b-c8e1-4936-eb5b-383870d0d437"
      },
      "execution_count": 8,
      "outputs": [
        {
          "output_type": "execute_result",
          "data": {
            "text/plain": [
              "['france', 'pakistan', 'india', 'russia', 'china', 'japan', 'germany']"
            ]
          },
          "metadata": {},
          "execution_count": 8
        }
      ]
    },
    {
      "cell_type": "markdown",
      "source": [
        "Libraries"
      ],
      "metadata": {
        "id": "PuWpULO0XuvS"
      }
    },
    {
      "cell_type": "code",
      "source": [
        "import math"
      ],
      "metadata": {
        "id": "SbOPTegwXzyx"
      },
      "execution_count": 24,
      "outputs": []
    },
    {
      "cell_type": "code",
      "source": [
        "math.pi"
      ],
      "metadata": {
        "colab": {
          "base_uri": "https://localhost:8080/"
        },
        "id": "9P-psJ8QX81B",
        "outputId": "cd09d6b4-ebc7-419c-e6c8-aec24e9489f0"
      },
      "execution_count": 25,
      "outputs": [
        {
          "output_type": "execute_result",
          "data": {
            "text/plain": [
              "3.141592653589793"
            ]
          },
          "metadata": {},
          "execution_count": 25
        }
      ]
    },
    {
      "cell_type": "code",
      "source": [
        "r = 100\n",
        "area = math.pi * r **2\n",
        "area"
      ],
      "metadata": {
        "colab": {
          "base_uri": "https://localhost:8080/"
        },
        "id": "MEePmkKqYB5Z",
        "outputId": "bb2f1e7e-74cc-48f0-d9b4-eb862748130b"
      },
      "execution_count": 30,
      "outputs": [
        {
          "output_type": "execute_result",
          "data": {
            "text/plain": [
              "31415.926535897932"
            ]
          },
          "metadata": {},
          "execution_count": 30
        }
      ]
    },
    {
      "cell_type": "code",
      "source": [
        "math.pi"
      ],
      "metadata": {
        "colab": {
          "base_uri": "https://localhost:8080/"
        },
        "id": "Umw_0-PAYmqI",
        "outputId": "ed1c7653-b551-4dd9-ced5-9c182f33cad7"
      },
      "execution_count": 32,
      "outputs": [
        {
          "output_type": "execute_result",
          "data": {
            "text/plain": [
              "3.141592653589793"
            ]
          },
          "metadata": {},
          "execution_count": 32
        }
      ]
    },
    {
      "cell_type": "code",
      "source": [
        "# The employees have been producing 10000 units at the wage rate of $50 / per hour and worked 100000 hours total in the month,\n",
        "# a) I want to know how many hours will they work for 12000 units.\n",
        "# b) and if I change the wage rate to $12 how many units can i expect them to make.\n",
        "\n",
        "producing_units = 10000\n",
        "wage_rate_per_hour= 50\n",
        "hours_worked_in_month = 100000\n",
        "new_units = 12000\n",
        "new_wage_rate = 12\n",
        "# a)I want to know how many hours will they work for 12000 units.\n",
        "new_hours_worked = (12000 / 10000) * 100000\n",
        "new_hours_worked\n"
      ],
      "metadata": {
        "colab": {
          "base_uri": "https://localhost:8080/"
        },
        "id": "z6_RjBl7Z-4n",
        "outputId": "444e3f97-1386-45cb-a060-57f9d20aa78d"
      },
      "execution_count": 41,
      "outputs": [
        {
          "output_type": "execute_result",
          "data": {
            "text/plain": [
              "120000.0"
            ]
          },
          "metadata": {},
          "execution_count": 41
        }
      ]
    },
    {
      "cell_type": "code",
      "source": [
        "# b) and if I change the wage rate to $12 how many units can i expect them to make.\n",
        "units = (12 /50)*10000\n",
        "units"
      ],
      "metadata": {
        "colab": {
          "base_uri": "https://localhost:8080/"
        },
        "id": "j6oL-_g2cD5y",
        "outputId": "a494e156-6742-42e4-e93a-4e2ce1a9b471"
      },
      "execution_count": 45,
      "outputs": [
        {
          "output_type": "execute_result",
          "data": {
            "text/plain": [
              "2400.0"
            ]
          },
          "metadata": {},
          "execution_count": 45
        }
      ]
    },
    {
      "cell_type": "code",
      "source": [
        "# b)\n",
        "units_2 = 100000*50\n",
        "units_2\n"
      ],
      "metadata": {
        "colab": {
          "base_uri": "https://localhost:8080/"
        },
        "id": "xR4V-xAQgDQ4",
        "outputId": "b74fb947-e644-4dfc-9c42-04f4afb6ddcc"
      },
      "execution_count": 47,
      "outputs": [
        {
          "output_type": "execute_result",
          "data": {
            "text/plain": [
              "5000000"
            ]
          },
          "metadata": {},
          "execution_count": 47
        }
      ]
    },
    {
      "cell_type": "code",
      "source": [
        "units_3 = 50000000/12\n",
        "units_3"
      ],
      "metadata": {
        "colab": {
          "base_uri": "https://localhost:8080/"
        },
        "id": "47xFLElXfVWb",
        "outputId": "2c3dda54-2639-4e67-df80-4fa3b691f622"
      },
      "execution_count": 48,
      "outputs": [
        {
          "output_type": "execute_result",
          "data": {
            "text/plain": [
              "4166666.6666666665"
            ]
          },
          "metadata": {},
          "execution_count": 48
        }
      ]
    },
    {
      "cell_type": "code",
      "source": [
        "import numpy as np\n"
      ],
      "metadata": {
        "id": "8FneURqag903"
      },
      "execution_count": 50,
      "outputs": []
    },
    {
      "cell_type": "code",
      "source": [
        "#conver list into numpy aray\n",
        "h = [1,2,3,4,5]\n",
        "g_array = np.array(h)\n",
        "g"
      ],
      "metadata": {
        "colab": {
          "base_uri": "https://localhost:8080/"
        },
        "id": "lj-AYrVThIbV",
        "outputId": "a66e461b-693e-4dcc-aa08-2d858d80d089"
      },
      "execution_count": 53,
      "outputs": [
        {
          "output_type": "execute_result",
          "data": {
            "text/plain": [
              "array([1, 2, 3, 4, 5])"
            ]
          },
          "metadata": {},
          "execution_count": 53
        }
      ]
    },
    {
      "cell_type": "code",
      "source": [
        "# BMI calculate\n",
        "bmi = 45/5.4\n",
        "bmi"
      ],
      "metadata": {
        "colab": {
          "base_uri": "https://localhost:8080/"
        },
        "id": "S-qpF5zhirDx",
        "outputId": "87940cb8-6a7f-4cea-f5c4-9e90a38d2927"
      },
      "execution_count": 55,
      "outputs": [
        {
          "output_type": "execute_result",
          "data": {
            "text/plain": [
              "8.333333333333332"
            ]
          },
          "metadata": {},
          "execution_count": 55
        }
      ]
    },
    {
      "cell_type": "code",
      "source": [
        "np.array(h[1:5])\n"
      ],
      "metadata": {
        "colab": {
          "base_uri": "https://localhost:8080/"
        },
        "id": "Tu2AgINdjJ66",
        "outputId": "9b395e22-b3e3-400c-ba56-493e90cb1509"
      },
      "execution_count": 56,
      "outputs": [
        {
          "output_type": "execute_result",
          "data": {
            "text/plain": [
              "array([2, 3, 4, 5])"
            ]
          },
          "metadata": {},
          "execution_count": 56
        }
      ]
    }
  ]
}