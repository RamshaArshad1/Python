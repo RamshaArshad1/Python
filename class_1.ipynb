{
  "nbformat": 4,
  "nbformat_minor": 0,
  "metadata": {
    "colab": {
      "provenance": []
    },
    "kernelspec": {
      "name": "python3",
      "display_name": "Python 3"
    },
    "language_info": {
      "name": "python"
    }
  },
  "cells": [
    {
      "cell_type": "code",
      "execution_count": 1,
      "metadata": {
        "colab": {
          "base_uri": "https://localhost:8080/"
        },
        "id": "IGVsOWjCOI4R",
        "outputId": "ac8eaf11-57a1-474b-8f43-992e83a90264"
      },
      "outputs": [
        {
          "output_type": "stream",
          "name": "stdout",
          "text": [
            "Hello, world!\n"
          ]
        }
      ],
      "source": [
        "# prompt: print hello world\n",
        "\n",
        "print(\"Hello, world!\")\n"
      ]
    },
    {
      "cell_type": "markdown",
      "source": [
        "Python Operators"
      ],
      "metadata": {
        "id": "UTuixGmpTI0U"
      }
    },
    {
      "cell_type": "code",
      "source": [
        "#python operators\n",
        "# + - / *\n",
        "2+2"
      ],
      "metadata": {
        "colab": {
          "base_uri": "https://localhost:8080/"
        },
        "id": "EOkovntmTG1s",
        "outputId": "f45de8f1-4897-4efc-b03a-9825de858d4e"
      },
      "execution_count": 3,
      "outputs": [
        {
          "output_type": "execute_result",
          "data": {
            "text/plain": [
              "4"
            ]
          },
          "metadata": {},
          "execution_count": 3
        }
      ]
    },
    {
      "cell_type": "code",
      "source": [
        "#subtraction\n",
        "3-2"
      ],
      "metadata": {
        "colab": {
          "base_uri": "https://localhost:8080/"
        },
        "id": "cezv4CM-Tx2A",
        "outputId": "9e95b8e6-a6b6-441a-aa56-a73318508f36"
      },
      "execution_count": 6,
      "outputs": [
        {
          "output_type": "execute_result",
          "data": {
            "text/plain": [
              "1"
            ]
          },
          "metadata": {},
          "execution_count": 6
        }
      ]
    },
    {
      "cell_type": "code",
      "source": [
        "#multiply\n",
        "2*3"
      ],
      "metadata": {
        "colab": {
          "base_uri": "https://localhost:8080/"
        },
        "id": "qYDhIBvjT_6J",
        "outputId": "155cc85f-e619-4a74-8f58-438a8102eaee"
      },
      "execution_count": 7,
      "outputs": [
        {
          "output_type": "execute_result",
          "data": {
            "text/plain": [
              "6"
            ]
          },
          "metadata": {},
          "execution_count": 7
        }
      ]
    },
    {
      "cell_type": "code",
      "source": [
        "#divide\n",
        "8/4"
      ],
      "metadata": {
        "colab": {
          "base_uri": "https://localhost:8080/"
        },
        "id": "k5xrk_4RUFCC",
        "outputId": "96c9db78-b036-41ce-c916-319e771a05d9"
      },
      "execution_count": 8,
      "outputs": [
        {
          "output_type": "execute_result",
          "data": {
            "text/plain": [
              "2.0"
            ]
          },
          "metadata": {},
          "execution_count": 8
        }
      ]
    },
    {
      "cell_type": "code",
      "source": [
        "#modulo\n",
        "4%16"
      ],
      "metadata": {
        "colab": {
          "base_uri": "https://localhost:8080/"
        },
        "id": "xJq8CMKDUiwD",
        "outputId": "9388c1ff-eb08-441c-a8f3-b676fdd310b0"
      },
      "execution_count": 10,
      "outputs": [
        {
          "output_type": "execute_result",
          "data": {
            "text/plain": [
              "4"
            ]
          },
          "metadata": {},
          "execution_count": 10
        }
      ]
    },
    {
      "cell_type": "code",
      "source": [
        "# 2% increase in a 100$ on a monthely basis for 2 years\n",
        "100*(1.02**2)"
      ],
      "metadata": {
        "colab": {
          "base_uri": "https://localhost:8080/"
        },
        "id": "0I3WBBpfVLoF",
        "outputId": "4a08ccf1-49de-4b4d-8d10-bdc384d54139"
      },
      "execution_count": 22,
      "outputs": [
        {
          "output_type": "execute_result",
          "data": {
            "text/plain": [
              "104.03999999999999"
            ]
          },
          "metadata": {},
          "execution_count": 22
        }
      ]
    },
    {
      "cell_type": "code",
      "source": [
        "# you have 100$ which you can invest with a 10% return each year. after one year it's 110$ ans after 2 its 121$. how much will bw after 7 years\n",
        "out = 100*(1+0.10)**7\n",
        "print(out)"
      ],
      "metadata": {
        "colab": {
          "base_uri": "https://localhost:8080/"
        },
        "id": "Y7WTBRe4WEZK",
        "outputId": "d7e738b9-23be-48e6-f7a1-07f35acc408d"
      },
      "execution_count": 15,
      "outputs": [
        {
          "output_type": "stream",
          "name": "stdout",
          "text": [
            "194.87171000000012\n"
          ]
        }
      ]
    },
    {
      "cell_type": "code",
      "source": [
        "age = 20\n",
        "print(age)"
      ],
      "metadata": {
        "colab": {
          "base_uri": "https://localhost:8080/"
        },
        "id": "tFgYHPIRX4xE",
        "outputId": "39ac1015-f1b4-4763-c74e-96736249363e"
      },
      "execution_count": 14,
      "outputs": [
        {
          "output_type": "stream",
          "name": "stdout",
          "text": [
            "20\n"
          ]
        }
      ]
    },
    {
      "cell_type": "code",
      "source": [
        "# Write age, height, name of a person and calculate his age in 10 years and show all variables via print\n",
        "Name = (\"Ali\")\n",
        "Hight =  (\"5.10\")\n",
        "Age = (20)\n",
        "age2 = Age + 10\n",
        "print(Name)\n",
        "print(Hight)\n",
        "print(Age)\n",
        "print(age2)\n"
      ],
      "metadata": {
        "colab": {
          "base_uri": "https://localhost:8080/"
        },
        "id": "gLiPv4KgYkcX",
        "outputId": "43136b8f-1de3-4f4a-8634-5d4ad43fb5a1"
      },
      "execution_count": 18,
      "outputs": [
        {
          "output_type": "stream",
          "name": "stdout",
          "text": [
            "Ali\n",
            "5.10\n",
            "20\n",
            "30\n"
          ]
        }
      ]
    },
    {
      "cell_type": "code",
      "source": [
        "#types of var\n",
        "string = \"name\"\n",
        "Integer = 10\n",
        "Float = 10.5\n",
        "Boolean = True or False or None"
      ],
      "metadata": {
        "id": "dc5RFSwebrPd"
      },
      "execution_count": null,
      "outputs": []
    },
    {
      "cell_type": "code",
      "source": [
        "#create two variables and print them in the given sentence\n",
        "#create two variables and print them in the given sentence\n",
        "name = \"ramsha\"\n",
        "age  = 20\n",
        "print(f\"my name is {name} and my age is {age}\")\n"
      ],
      "metadata": {
        "colab": {
          "base_uri": "https://localhost:8080/"
        },
        "id": "fbRbL3zzab9g",
        "outputId": "4d18469d-cef6-4bcd-acbc-ba48c6fec49e"
      },
      "execution_count": 25,
      "outputs": [
        {
          "output_type": "stream",
          "name": "stdout",
          "text": [
            "my name is ramsha and my age is 20\n"
          ]
        }
      ]
    }
  ]
}